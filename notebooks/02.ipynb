{
 "cells": [
  {
   "cell_type": "markdown",
   "id": "95a99456",
   "metadata": {},
   "source": [
    "# 8. `College`"
   ]
  },
  {
   "cell_type": "code",
   "execution_count": null,
   "id": "4be14879",
   "metadata": {},
   "outputs": [],
   "source": [
    "import altair as alt\n",
    "import polars as pl\n",
    "\n",
    "import isl\n",
    "\n",
    "df = isl.get_data('College')\n",
    "columns = {\n",
    "    'Private' : 'Public/private indicator',\n",
    "    'Apps' : 'Number of applications received',\n",
    "    'Accept' : 'Number of applicants accepted',\n",
    "    'Enroll' : 'Number of new students enrolled',\n",
    "    'Top10perc' : r'New students from top 10 % of high school class',\n",
    "    'Top25perc' : r'New students from top 25 % of high school class',\n",
    "    'F.Undergrad' : 'Number of full-time undergraduates',\n",
    "    'P.Undergrad' : 'Number of part-time undergraduates',\n",
    "    'Outstate' : 'Out-of-state tuition',\n",
    "    'Room.Board' : 'Room and board costs',\n",
    "    'Books' : 'Estimated book costs',\n",
    "    'Personal' : 'Estimated personal spending',\n",
    "    'PhD' : 'Percent of faculty with Ph.D.s',\n",
    "    'Terminal' : 'Percent of faculty with terminal degree',\n",
    "    'S.F.Ratio' : 'Student/faculty ratio',\n",
    "    'perc.alumni' : 'Percent of alumni who donate',\n",
    "    'Expend' : 'Instructional expenditure per student',\n",
    "    'Grad.Rate' : 'Graduation rate',\n",
    "}\n",
    "df.describe()"
   ]
  },
  {
   "cell_type": "code",
   "execution_count": null,
   "id": "463fddf4",
   "metadata": {},
   "outputs": [],
   "source": [
    "(\n",
    "    df.top_k(50, by='Top10perc').sample(10).sort('Top10perc', descending=True).with_row_index('Rank')\n",
    "    .plot.text(\n",
    "        x=alt.X('Rank').scale(reverse=True),\n",
    "        y='Top10perc',\n",
    "        text='Name',\n",
    "    )\n",
    " )"
   ]
  },
  {
   "cell_type": "code",
   "execution_count": null,
   "id": "9795ffe9",
   "metadata": {},
   "outputs": [],
   "source": [
    "features = ['Top10perc', 'Apps', 'Enroll']\n",
    "(\n",
    "    alt.Chart(df)\n",
    "    .mark_point()\n",
    "    .encode(\n",
    "        x=alt.X(alt.repeat(\"column\"), type='quantitative'),\n",
    "        y=alt.Y(alt.repeat(\"row\"), type='quantitative'),\n",
    "        color='Private:N',\n",
    "        tooltip=['Name:N', 'Private:N'] + features,\n",
    "    )\n",
    "    .properties(\n",
    "        width=100,\n",
    "        height=100,\n",
    "    )\n",
    "    .repeat(\n",
    "        row=features,\n",
    "        column=features[::-1],\n",
    "    )\n",
    "    .interactive()\n",
    ")"
   ]
  },
  {
   "cell_type": "code",
   "execution_count": null,
   "id": "4ed7c1a7",
   "metadata": {},
   "outputs": [],
   "source": [
    "df.plot.boxplot(y='Private', x='Outstate:Q', color='Private', tooltip=['Name', 'Outstate:Q'],)"
   ]
  },
  {
   "cell_type": "markdown",
   "id": "3e0fbf6b",
   "metadata": {},
   "source": [
    "## 8f using `pl.Expr`"
   ]
  },
  {
   "cell_type": "code",
   "execution_count": null,
   "id": "46fe3481",
   "metadata": {},
   "outputs": [],
   "source": [
    "(\n",
    "    df\n",
    "    .with_columns(pl.col('Top10perc').gt(50).alias('Elite'))\n",
    "    .plot.boxplot(x='Outstate', y='Elite', color='Elite')\n",
    ")"
   ]
  },
  {
   "cell_type": "markdown",
   "id": "ef15b206",
   "metadata": {},
   "source": [
    "## 8f using `Series.cut()` (unnecessary) "
   ]
  },
  {
   "cell_type": "code",
   "execution_count": null,
   "id": "fe0abfe9",
   "metadata": {},
   "outputs": [],
   "source": [
    "(\n",
    "    df\n",
    "    .with_columns(pl.col('Top10perc').cut([50], labels=['1', '0']).cast(bool).alias('Elite'))\n",
    "    .plot.boxplot(x='Outstate', y='Elite', color='Elite')\n",
    ")"
   ]
  },
  {
   "cell_type": "code",
   "execution_count": null,
   "id": "6e3f8946",
   "metadata": {},
   "outputs": [],
   "source": [
    "def kde(column):\n",
    "    return df[column].plot.kde().properties(title=columns[column], width=50, height=50)\n",
    "kde('PhD') | kde('Terminal') | kde('Personal')"
   ]
  },
  {
   "cell_type": "markdown",
   "id": "6d71a61e",
   "metadata": {},
   "source": [
    "---\n",
    "# 9. `Auto`"
   ]
  },
  {
   "cell_type": "code",
   "execution_count": null,
   "id": "c7557ab5",
   "metadata": {},
   "outputs": [],
   "source": [
    "import altair as alt\n",
    "import polars as pl\n",
    "\n",
    "import isl\n",
    "\n",
    "df = isl.get_data('Auto')\n",
    "df.describe()"
   ]
  },
  {
   "cell_type": "code",
   "execution_count": null,
   "id": "f188852a",
   "metadata": {},
   "outputs": [],
   "source": [
    "quantitative_features = ['cylinders', 'displacement', 'horsepower', 'weight', 'acceleration', 'year']\n",
    "(\n",
    "    alt.Chart(df)\n",
    "    .mark_point()\n",
    "    .encode(\n",
    "        alt.X(alt.repeat(\"column\"), type='quantitative').scale(zero=False),\n",
    "        alt.Y(alt.repeat(\"row\"), type='quantitative').scale(zero=False),\n",
    "        color='origin:N',\n",
    "        tooltip=['Name:N', 'Private:N'] + quantitative_features,\n",
    "    )\n",
    "    .properties(\n",
    "        width=100,\n",
    "        height=100,\n",
    "    )\n",
    "    .repeat(\n",
    "        row=quantitative_features,\n",
    "        column=quantitative_features[::-1],\n",
    "    )\n",
    "    .interactive()\n",
    ")"
   ]
  },
  {
   "cell_type": "code",
   "execution_count": null,
   "id": "3c0b2fa4",
   "metadata": {},
   "outputs": [],
   "source": [
    "from polars_ds.eda import diagnosis, plots\n",
    "import polars_ds as pds\n",
    "\n",
    "plots.plot_lin_reg(df, 'weight', 'mpg', add_bias=True).interactive()"
   ]
  },
  {
   "cell_type": "code",
   "execution_count": null,
   "id": "194dbf55",
   "metadata": {},
   "outputs": [],
   "source": [
    "df.with_columns(pds.simple_lin_reg('weight', 'mpg', add_bias=True, return_pred=True).struct.unnest())"
   ]
  },
  {
   "cell_type": "code",
   "execution_count": null,
   "id": "42e8ac85",
   "metadata": {},
   "outputs": [],
   "source": [
    "quantitative_features = ['cylinders', 'displacement', 'horsepower', 'weight', 'acceleration', 'year']\n",
    "for feature in quantitative_features:\n",
    "    df.plot.boxplot(x=alt.X(feature).scale(zero=False), y='origin', color='origin').properties(width=100).show()\n"
   ]
  },
  {
   "cell_type": "markdown",
   "id": "a6acf3d1",
   "metadata": {},
   "source": [
    "## 9c calculate standard deviation \n",
    "- sum of deviations from mean, divided by `N - 1` for sample estimate, squareroot-ed"
   ]
  },
  {
   "cell_type": "code",
   "execution_count": null,
   "id": "52e23f23",
   "metadata": {},
   "outputs": [],
   "source": [
    "x = df.filter(pl.col('origin') == 'USA')['acceleration']\n",
    "((x - x.mean()).pow(2).sum() / (x.len() - 1)) ** 0.5, x.std(ddof=1)"
   ]
  },
  {
   "cell_type": "code",
   "execution_count": null,
   "id": "2377de68",
   "metadata": {},
   "outputs": [],
   "source": [
    "(\n",
    "    alt.Chart(df)\n",
    "    .mark_point()\n",
    "    .encode(\n",
    "        x=alt.X(alt.repeat(\"column\"), type='quantitative').scale(zero=False),\n",
    "        y='mpg:Q',\n",
    "        color='origin:N',\n",
    "        tooltip=['name:N', 'origin:N'] + quantitative_features,\n",
    "    )\n",
    "    .properties(\n",
    "        width=100,\n",
    "        height=100,\n",
    "    )\n",
    "    .repeat(column=quantitative_features)\n",
    ")"
   ]
  },
  {
   "cell_type": "markdown",
   "id": "47ac75b5",
   "metadata": {},
   "source": [
    "---\n",
    "# 10. `Boston`"
   ]
  },
  {
   "cell_type": "code",
   "execution_count": null,
   "id": "b8a89d38",
   "metadata": {},
   "outputs": [],
   "source": [
    "import altair as alt\n",
    "import polars as pl\n",
    "\n",
    "import isl\n",
    "\n",
    "df = isl.get_data('Boston')\n",
    "columns = {\n",
    "    'crim': 'per capita crime rate by town',\n",
    "    'zn': 'proportion of residential land zoned for lots over 25,000 sq.ft.',\n",
    "    'indus': 'proportion of non-retail business acres per town',\n",
    "    'chas': 'Charles River dummy variable (= 1 if tract bounds river; 0 otherwise)',\n",
    "    'nox': 'nitrogen oxides concentration (parts per 10 million)',\n",
    "    'rm': 'average number of rooms per dwelling',\n",
    "    'age': 'proportion of owner-occupied units built prior to 1940',\n",
    "    'dis': 'weighted mean of distances to five Boston employment centres',\n",
    "    'rad': 'index of accessibility to radial highways',\n",
    "    'tax': 'full-value property-tax rate per $10,000',\n",
    "    'ptratio': 'pupil-teacher ratio by town',\n",
    "    'lstat': 'lower status of the population (percent)',\n",
    "    'medv': 'median value of owner-occupied homes in $1000s',\n",
    "}\n",
    "df.describe()"
   ]
  },
  {
   "cell_type": "code",
   "execution_count": null,
   "id": "0137b000",
   "metadata": {},
   "outputs": [],
   "source": [
    "(\n",
    "    df\n",
    "    .filter(pl.col('crim') > 5)\n",
    "    .plot.scatter(\n",
    "        x=alt.X(alt.repeat(\"column\"), type='quantitative').scale(zero=False),\n",
    "        y='crim:Q',\n",
    "        color='chas:N',\n",
    "    )\n",
    "    .properties(\n",
    "        width=100,\n",
    "        height=100,\n",
    "    )\n",
    "    .repeat(column=[c for c in columns if c not in ('crim',)])\n",
    "    .interactive()\n",
    ")"
   ]
  }
 ],
 "metadata": {
  "kernelspec": {
   "display_name": ".venv",
   "language": "python",
   "name": "python3"
  },
  "language_info": {
   "codemirror_mode": {
    "name": "ipython",
    "version": 3
   },
   "file_extension": ".py",
   "mimetype": "text/x-python",
   "name": "python",
   "nbconvert_exporter": "python",
   "pygments_lexer": "ipython3",
   "version": "3.12.8"
  }
 },
 "nbformat": 4,
 "nbformat_minor": 5
}
